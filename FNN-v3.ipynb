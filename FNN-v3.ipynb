{
 "cells": [
  {
   "cell_type": "code",
   "execution_count": 61,
   "metadata": {},
   "outputs": [],
   "source": [
    "import numpy as np\n",
    "import pandas as pd\n",
    "import scipy\n",
    "from plotnine import *\n",
    "import matplotlib.pyplot as plt\n",
    "import seaborn as sns\n",
    "from sklearn.preprocessing import StandardScaler\n",
    "from sklearn.neural_network import MLPRegressor\n",
    "from sklearn.metrics import mean_squared_error, r2_score"
   ]
  },
  {
   "cell_type": "code",
   "execution_count": 62,
   "metadata": {},
   "outputs": [
    {
     "name": "stderr",
     "output_type": "stream",
     "text": [
      "C:\\Users\\satel\\AppData\\Local\\Temp/ipykernel_23788/3489429183.py:3: DtypeWarning: Columns (14) have mixed types. Specify dtype option on import or set low_memory=False.\n"
     ]
    },
    {
     "name": "stdout",
     "output_type": "stream",
     "text": [
      "(98923, 5)\n",
      "(98923, 1)\n"
     ]
    },
    {
     "name": "stderr",
     "output_type": "stream",
     "text": [
      "C:\\Users\\satel\\AppData\\Local\\Temp/ipykernel_23788/3489429183.py:4: DtypeWarning: Columns (14,15) have mixed types. Specify dtype option on import or set low_memory=False.\n"
     ]
    }
   ],
   "source": [
    "# Limpieza de datos\n",
    "\n",
    "dataEval = pd.read_csv (\"./data/asteroidEval.csv\")\n",
    "dataTrain = pd.read_csv (\"./data/asteroidTrain.csv\")\n",
    "\n",
    "# Eliminamos las columnas que no nos interesan\n",
    "dataTrain = dataTrain.drop(\n",
    "        columns=[\n",
    "            \"full_name\", \"G\", \"extent\", \"rot_per\", \"GM\", \"BV\", \"UB\", \"IR\", \"spec_B\", \"spec_T\", \"data_arc\", \"n_obs_used\", \"neo\", \"pha\"\n",
    "        ]\n",
    "    )\n",
    "dataTrain = dataTrain[dataTrain[\"H\"].notna()]\n",
    "dataTrain = dataTrain[dataTrain[\"albedo\"].notna()]\n",
    "dataTrain = dataTrain.dropna(axis=1)\n",
    "\n",
    "# Creamos las variables para el modelo\n",
    "x = dataTrain[[\"a\", \"q\", \"H\", \"albedo\", \"moid\"]]\n",
    "y = dataTrain[[\"diameter\"]]\n",
    "\n",
    "print(x.shape)\n",
    "print(y.shape)\n",
    "\n",
    "# # Normalizamos los datos\n",
    "# scaler = StandardScaler()\n",
    "# x = scaler.fit_transform(x)\n",
    "# y = scaler.fit_transform(y)"
   ]
  },
  {
   "cell_type": "code",
   "execution_count": 63,
   "metadata": {},
   "outputs": [
    {
     "name": "stderr",
     "output_type": "stream",
     "text": [
      "c:\\Users\\satel\\AppData\\Local\\Programs\\Python\\Python39\\lib\\site-packages\\sklearn\\neural_network\\_multilayer_perceptron.py:1599: DataConversionWarning: A column-vector y was passed when a 1d array was expected. Please change the shape of y to (n_samples, ), for example using ravel().\n"
     ]
    },
    {
     "name": "stdout",
     "output_type": "stream",
     "text": [
      "R2: 0.8873635739360226\n",
      "MSE: 9.277441340204488\n"
     ]
    },
    {
     "name": "stderr",
     "output_type": "stream",
     "text": [
      "c:\\Users\\satel\\AppData\\Local\\Programs\\Python\\Python39\\lib\\site-packages\\sklearn\\neural_network\\_multilayer_perceptron.py:692: ConvergenceWarning: Stochastic Optimizer: Maximum iterations (200) reached and the optimization hasn't converged yet.\n"
     ]
    }
   ],
   "source": [
    "# Entrenamos el modelo\n",
    "model = MLPRegressor(hidden_layer_sizes=(3, 4), activation='relu', solver='adam')\n",
    "model.fit(x, y)\n",
    "\n",
    "# predicciones\n",
    "predictions = model.predict(x)\n",
    "\n",
    "# Evaluacion del modelo\n",
    "print(\"R2:\", r2_score(y, predictions))\n",
    "print(\"MSE:\", mean_squared_error(y, predictions))\n"
   ]
  },
  {
   "cell_type": "code",
   "execution_count": 64,
   "metadata": {},
   "outputs": [
    {
     "data": {
      "image/png": "[encoded data removed]",
      "text/plain": [
       "<Figure size 432x288 with 1 Axes>"
      ]
     },
     "metadata": {
      "needs_background": "light"
     },
     "output_type": "display_data"
    }
   ],
   "source": [
    "# Graficamos el resultado\n",
    "plt.scatter(y, predictions)\n",
    "plt.xlabel(\"Diametro real\")\n",
    "plt.ylabel(\"Diametro predicho\")\n",
    "plt.show()\n"
   ]
  },
  {
   "cell_type": "code",
   "execution_count": 65,
   "metadata": {},
   "outputs": [
    {
     "name": "stdout",
     "output_type": "stream",
     "text": [
      "                  0\n",
      "count  37251.000000\n",
      "mean       5.799181\n",
      "std        9.190126\n",
      "min        3.275657\n",
      "25%        3.275657\n",
      "50%        3.275657\n",
      "75%        5.348555\n",
      "max      289.725205\n"
     ]
    }
   ],
   "source": [
    "dataEval = dataEval[dataEval[\"H\"].notna()]\n",
    "dataEval = dataEval[dataEval[\"albedo\"].notna()]\n",
    "dataEval = dataEval.dropna(axis=1)\n",
    "\n",
    "x = dataEval[[\"a\", \"q\", \"H\", \"albedo\", \"moid\"]]\n",
    "\n",
    "# x = scaler.fit_transform(x)\n",
    "\n",
    "predictions = model.predict(x)\n",
    "# convert the predictions array to a dataframe\n",
    "predictions = pd.DataFrame(predictions)\n",
    "print(predictions.describe())\n",
    "\n",
    "predictions.to_csv(\"./data/predictions.csv\")\n"
   ]
  }
 ],
 "metadata": {
  "kernelspec": {
   "display_name": "Python 3.9.6 64-bit",
   "language": "python",
   "name": "python3"
  },
  "language_info": {
   "codemirror_mode": {
    "name": "ipython",
    "version": 3
   },
   "file_extension": ".py",
   "mimetype": "text/x-python",
   "name": "python",
   "nbconvert_exporter": "python",
   "pygments_lexer": "ipython3",
   "version": "3.9.6"
  },
  "orig_nbformat": 4,
  "vscode": {
   "interpreter": {
    "hash": "dc2b1785e863bd89744db6865b85d8df329060abe1db104ec3d1f22df6bf84f6"
   }
  }
 },
 "nbformat": 4,
 "nbformat_minor": 2
}
