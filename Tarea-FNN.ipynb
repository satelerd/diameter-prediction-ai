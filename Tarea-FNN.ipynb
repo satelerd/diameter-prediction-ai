{
 "cells": [
  {
   "cell_type": "markdown",
   "metadata": {},
   "source": [
    "# Tarea Redes Neuronales\n",
    "## Grupos de 3 personas\n",
    "### Entregas atrasadas pierden 1 punto por hora. Si alguien entrega a las 00:00:01 implica que pierde 1 punto en la nota final. Recomendación, entregue una versión inicial cerca de las 22 horas y luego suba las modificaciones.\n",
    "\n",
    "La NASA mantiene la información de varios cometas y quiere determinar alguna manera de predecir el diametro de un cometa. Específicamente, han analizado en forma manual una muestra de 100,000 asteroides. Los datos consisten en 26 variables, con distinta información como por ejemplo nombre del asteroide, su periodo orbital, su periodo de rotación, etc. Todos los datos existentes, se encuentran en un puro archivo llamado asteroidTrain.csv. Mientras que las descripciones de cada una de las variables se encuentran en el archivo tareaInformacion.txt\n",
    "\n",
    "Desafortunadamente, la NASA todavía no ha evaluado 37.681 asteroides y no tienen tiempo para realizarlo. Por lo mismo, le piden que aplique una red neuronal feed forward para obtener una predicción de estos asteroides.\n",
    "\n",
    "1. Lea los datos y borre las variables/asteroides que estime necesario. En caso que crea que la base de datos todavía es demasiado grande para aplicar una red neruonal, usted puede tomar una muestra de la misma. NOTA, justifique cada una de las decisiones tomadas, el puntaje principal se basa en las justificaciones. Una vez generado estos datos, guarde la base de datos final en un nuevo archivo csv (1.5 puntos).\n",
    "2. Entrene un modelo feed forward. Realice una busqueda de hiperparámetros incluyendo número de capas, número de  neuronas, funciones de activación, epocas, etc. Seleccione un modelo final (justificando a través de una evaluación correcta los hiperarametros seleccionados (2.5 puntos). NOTA, justifique cada una de las decisiones tomadas, el puntaje principal se basa en las justificaciones. \n",
    "3. Utilice el modelo seleccionado en el punto anterior y evalue los 37,681 asteroides que la NASA no ha evaluado. En este proceso genere un archivo csv de una sola columna con 37,681 filas donde cada celda tendrá el valor del cometa a predecir (2 puntos). Atención, si ustedes entrega un archivo con un número distinto de filas, de igual manera se evaluará las 37,681 filas.\n",
    "\n",
    "El punto de evaluación final será una competencia entre todas las tareas basados en los MSE más bajos y altos obtenido por cada grupo. El puntaje final será una regresión lineal entre un modelo muy básico y el mejor puntaje.\n",
    "\n",
    "Para esta entrega usted deberá entregar 4 archivos\n",
    "1. Un archivo ipynb que muestre todo el proceso de selección de variables y limpieza de datos aplicados. Además, deberá mostrar la búsqueda de hiperparametros. Este archivo ya deberá haber sido ejecutado y cuando se cargué uno debera ver todo el proceso de ejecución. \n",
    "2. Un nuevo archivo CSV que contenga la base de datos luego de la limpieza generada en el primer punto de la tarea.\n",
    "3. Un archivo ipynb limpio que simplemente cargue la nueva base de datos, entrene el modelo con los hiperparametros seleccionados y genere el archivo csv con las 37,681 estimaciones. Este archivo permitirá ver la replicabilidad de su archivo csv. \n",
    "4. Un archivo csv con las 37,681 estimaciones realizadas para el modelo."
   ]
  },
  {
   "cell_type": "code",
   "execution_count": 1,
   "metadata": {},
   "outputs": [],
   "source": [
    "import numpy as np\n",
    "import pandas as pd\n",
    "import scipy\n",
    "from plotnine import *\n",
    "import matplotlib.pyplot as plt\n",
    "import seaborn as sns\n",
    "from sklearn.preprocessing import StandardScaler\n",
    "from sklearn.neural_network import MLPRegressor\n",
    "from sklearn.model_selection import train_test_split, cross_val_score, cross_val_predict\n",
    "from sklearn.metrics import mean_squared_error, r2_score"
   ]
  },
  {
   "cell_type": "code",
   "execution_count": 2,
   "metadata": {},
   "outputs": [
    {
     "name": "stderr",
     "output_type": "stream",
     "text": [
      "C:\\Users\\satel\\AppData\\Local\\Temp/ipykernel_23288/1522818531.py:1: DtypeWarning: Columns (14) have mixed types. Specify dtype option on import or set low_memory=False.\n",
      "C:\\Users\\satel\\AppData\\Local\\Temp/ipykernel_23288/1522818531.py:2: DtypeWarning: Columns (14,15) have mixed types. Specify dtype option on import or set low_memory=False.\n",
      "C:\\Users\\satel\\AppData\\Local\\Temp/ipykernel_23288/1522818531.py:26: FutureWarning: The default value of regex will change from True to False in a future version. In addition, single character regular expressions will *not* be treated as literal strings when regex=True.\n"
     ]
    }
   ],
   "source": [
    "dataEval = pd.read_csv (\"./data/asteroidEval.csv\")\n",
    "dataTrain_bruto = pd.read_csv (\"./data/asteroidTrain.csv\")\n",
    "\n",
    "# El archivo tiene 100.000 filas, de las cuales solo usaremos 10.000 para el entrenamiento. --------------- falta revisar este valor\n",
    "dataTrain = dataTrain_bruto.sample(10000, random_state=2)\n",
    "\n",
    "# Primero, se eliminaron las variables que estaban vacias.\n",
    "del(dataTrain['G'])\n",
    "del(dataTrain['extent'])\n",
    "del(dataTrain['rot_per'])\n",
    "del(dataTrain['GM'])\n",
    "del(dataTrain['BV'])\n",
    "del(dataTrain['UB'])\n",
    "del(dataTrain['IR'])\n",
    "del(dataTrain['spec_B'])\n",
    "del(dataTrain['spec_T'])\n",
    "del(dataTrain['neo'])\n",
    "del(dataTrain['pha'])\n",
    "\n",
    "# Luego eliminamos:\n",
    "del(dataTrain['condition_code']) # no es necesario saber qué tan bien se conoce la órbita de un objeto.\n",
    "del(dataTrain['n_obs_used']) # no es necesario saber que tantas observaciones se usaron.\n",
    "del(dataTrain['full_name']) # no es necesario saber el nombre\n",
    "\n",
    "#print(dataTrain.to_string())\n",
    "dataTrain['diameter'] = dataTrain['diameter'].str.replace('.','').astype(np.float64)\n",
    "# dataTrain.dtypes\n",
    "\n",
    "dataTrain = dataTrain.dropna()"
   ]
  },
  {
   "cell_type": "code",
   "execution_count": 3,
   "metadata": {},
   "outputs": [
    {
     "data": {
      "text/plain": [
       "<AxesSubplot:>"
      ]
     },
     "execution_count": 3,
     "metadata": {},
     "output_type": "execute_result"
    },
    {
     "data": {
      "image/png": "[encoded data removed]",
      "text/plain": [
       "<Figure size 720x720 with 2 Axes>"
      ]
     },
     "metadata": {
      "needs_background": "light"
     },
     "output_type": "display_data"
    }
   ],
   "source": [
    "plt.figure(figsize=(10,10))\n",
    "correlation = dataTrain.corr()\n",
    "sns.heatmap(correlation,cmap='Greens')"
   ]
  },
  {
   "cell_type": "code",
   "execution_count": 4,
   "metadata": {},
   "outputs": [],
   "source": [
    "# def train(X, y, hidden_layer_size, learning_rate, epochs):\n",
    "#     # normalizamos los datos\n",
    "#     scaler = StandardScaler()\n",
    "#     X = scaler.fit_transform(X) # no hay que pasar el nombre\n",
    "#     y = scaler.fit_transform(y)\n",
    "\n",
    "#     # creamos la red neuronal\n",
    "#     mlp = MLPRegressor(hidden_layer_sizes=hidden_layer_size,\n",
    "#                        activation='relu',\n",
    "#                        solver='adam',\n",
    "#                        learning_rate_init=learning_rate,\n",
    "#                        max_iter=epochs,\n",
    "#                        verbose=True)\n",
    "#     mlp.fit(X, y)\n",
    "#     return mlp\n",
    "\n",
    "# X = dataTrain.dropna()\n",
    "# y = X['diameter'].astype(float)\n",
    "# mlp = train(X, y, hidden_layer_size=(100,), learning_rate=0.001, epochs=100)"
   ]
  },
  {
   "cell_type": "code",
   "execution_count": 5,
   "metadata": {},
   "outputs": [
    {
     "name": "stdout",
     "output_type": "stream",
     "text": [
      "              a         e          i          om           w         q  \\\n",
      "50680  2.233296  0.214207   4.849435  120.898455  173.050813  1.754908   \n",
      "49224  3.068338  0.134944   9.440404  227.247710  122.701700  2.654284   \n",
      "65153  3.104391  0.091432   2.147292  335.481142   23.773316  2.820551   \n",
      "52340  2.675033  0.167338  12.631265   14.423147  277.183146  2.227400   \n",
      "35645  3.034970  0.090936  11.044894   52.801940  342.061933  2.758981   \n",
      "...         ...       ...        ...         ...         ...       ...   \n",
      "47454  3.017408  0.198534   9.109797   73.259909  349.580059  2.418351   \n",
      "63771  2.843273  0.205950   5.603790   43.410717  320.082612  2.257700   \n",
      "60896  2.565484  0.164608  12.770733  220.713756   78.305757  2.143184   \n",
      "33540  3.046203  0.087950  13.409948  176.411959   55.666452  2.778288   \n",
      "44359  3.110539  0.119489  28.674259  122.187493  203.444198  2.738864   \n",
      "\n",
      "             ad     per_y  data_arc     H  albedo      moid  \n",
      "50680  2.711685  3.337549    9412.0  16.5   0.125  0.738265  \n",
      "49224  3.482393  5.374810    7179.0  15.6   0.044  1.663150  \n",
      "65153  3.388232  5.469818    6685.0  15.5   0.035  1.816090  \n",
      "52340  3.122667  4.375241    8072.0  15.0   0.253  1.254180  \n",
      "35645  3.310959  5.287372    7780.0  15.0   0.177  1.768150  \n",
      "...         ...       ...       ...   ...     ...       ...  \n",
      "47454  3.616464  5.241543    4607.0  15.7   0.105  1.432060  \n",
      "63771  3.428845  4.794419    9738.0  15.1   0.216  1.258440  \n",
      "60896  2.987784  4.109246    7400.0  14.6   0.278  1.170530  \n",
      "33540  3.314118  5.316752    8588.0  14.3   0.060  1.795370  \n",
      "44359  3.482214  5.486075    5805.0  15.9   0.037  1.737410  \n",
      "\n",
      "[3264 rows x 12 columns]\n",
      "------------------------------\n",
      "50680    2.179000e+16\n",
      "49224    4.592000e+03\n",
      "65153    5.938000e+03\n",
      "52340    3.179000e+03\n",
      "35645    4.169000e+03\n",
      "             ...     \n",
      "47454    3.405000e+03\n",
      "63771    2.380000e+02\n",
      "60896    3.480000e+02\n",
      "33540    8.621000e+03\n",
      "44359    4.380000e+02\n",
      "Name: diameter, Length: 3264, dtype: float64\n"
     ]
    }
   ],
   "source": [
    "x = dataTrain.drop(\"diameter\", axis=1)\n",
    "\n",
    "y = dataTrain[\"diameter\"]\n",
    "print(x)\n",
    "print(\"-\"*30)\n",
    "print(y)\n",
    "\n",
    "xTrain, xTest, yTrain, yTest = train_test_split(x, y, test_size=0.20, random_state=42)"
   ]
  },
  {
   "cell_type": "code",
   "execution_count": 11,
   "metadata": {},
   "outputs": [
    {
     "name": "stderr",
     "output_type": "stream",
     "text": [
      "c:\\Users\\satel\\AppData\\Local\\Programs\\Python\\Python39\\lib\\site-packages\\sklearn\\neural_network\\_multilayer_perceptron.py:692: ConvergenceWarning: Stochastic Optimizer: Maximum iterations (200) reached and the optimization hasn't converged yet.\n",
      "c:\\Users\\satel\\AppData\\Local\\Programs\\Python\\Python39\\lib\\site-packages\\sklearn\\base.py:434: UserWarning: X has feature names, but MLPRegressor was fitted without feature names\n"
     ]
    },
    {
     "name": "stdout",
     "output_type": "stream",
     "text": [
      "-0.1607666814031785\n",
      "1.331688515798017e+16\n"
     ]
    },
    {
     "name": "stderr",
     "output_type": "stream",
     "text": [
      "c:\\Users\\satel\\AppData\\Local\\Programs\\Python\\Python39\\lib\\site-packages\\sklearn\\neural_network\\_multilayer_perceptron.py:692: ConvergenceWarning: Stochastic Optimizer: Maximum iterations (200) reached and the optimization hasn't converged yet.\n",
      "c:\\Users\\satel\\AppData\\Local\\Programs\\Python\\Python39\\lib\\site-packages\\sklearn\\base.py:434: UserWarning: X has feature names, but MLPRegressor was fitted without feature names\n",
      "c:\\Users\\satel\\AppData\\Local\\Programs\\Python\\Python39\\lib\\site-packages\\sklearn\\neural_network\\_multilayer_perceptron.py:692: ConvergenceWarning: Stochastic Optimizer: Maximum iterations (200) reached and the optimization hasn't converged yet.\n",
      "c:\\Users\\satel\\AppData\\Local\\Programs\\Python\\Python39\\lib\\site-packages\\sklearn\\neural_network\\_multilayer_perceptron.py:692: ConvergenceWarning: Stochastic Optimizer: Maximum iterations (200) reached and the optimization hasn't converged yet.\n",
      "c:\\Users\\satel\\AppData\\Local\\Programs\\Python\\Python39\\lib\\site-packages\\sklearn\\neural_network\\_multilayer_perceptron.py:692: ConvergenceWarning: Stochastic Optimizer: Maximum iterations (200) reached and the optimization hasn't converged yet.\n",
      "c:\\Users\\satel\\AppData\\Local\\Programs\\Python\\Python39\\lib\\site-packages\\sklearn\\neural_network\\_multilayer_perceptron.py:692: ConvergenceWarning: Stochastic Optimizer: Maximum iterations (200) reached and the optimization hasn't converged yet.\n",
      "c:\\Users\\satel\\AppData\\Local\\Programs\\Python\\Python39\\lib\\site-packages\\sklearn\\neural_network\\_multilayer_perceptron.py:692: ConvergenceWarning: Stochastic Optimizer: Maximum iterations (200) reached and the optimization hasn't converged yet.\n",
      "c:\\Users\\satel\\AppData\\Local\\Programs\\Python\\Python39\\lib\\site-packages\\sklearn\\neural_network\\_multilayer_perceptron.py:692: ConvergenceWarning: Stochastic Optimizer: Maximum iterations (200) reached and the optimization hasn't converged yet.\n",
      "c:\\Users\\satel\\AppData\\Local\\Programs\\Python\\Python39\\lib\\site-packages\\sklearn\\neural_network\\_multilayer_perceptron.py:692: ConvergenceWarning: Stochastic Optimizer: Maximum iterations (200) reached and the optimization hasn't converged yet.\n",
      "c:\\Users\\satel\\AppData\\Local\\Programs\\Python\\Python39\\lib\\site-packages\\sklearn\\neural_network\\_multilayer_perceptron.py:692: ConvergenceWarning: Stochastic Optimizer: Maximum iterations (200) reached and the optimization hasn't converged yet.\n",
      "c:\\Users\\satel\\AppData\\Local\\Programs\\Python\\Python39\\lib\\site-packages\\sklearn\\neural_network\\_multilayer_perceptron.py:692: ConvergenceWarning: Stochastic Optimizer: Maximum iterations (200) reached and the optimization hasn't converged yet.\n"
     ]
    },
    {
     "name": "stdout",
     "output_type": "stream",
     "text": [
      "R2CV: -0.17185935906523211\n"
     ]
    },
    {
     "name": "stderr",
     "output_type": "stream",
     "text": [
      "c:\\Users\\satel\\AppData\\Local\\Programs\\Python\\Python39\\lib\\site-packages\\sklearn\\neural_network\\_multilayer_perceptron.py:692: ConvergenceWarning: Stochastic Optimizer: Maximum iterations (200) reached and the optimization hasn't converged yet.\n"
     ]
    }
   ],
   "source": [
    "scaler = StandardScaler().fit(xTrain, yTrain)\n",
    "\n",
    "xRTrain = scaler.transform(xTrain)\n",
    "\n",
    "mlpmodel = MLPRegressor().fit(xRTrain, yTrain)\n",
    "\n",
    "predict = mlpmodel.predict(xTest)\n",
    "\n",
    "print(r2_score(yTest, predict))\n",
    "\n",
    "error = mean_squared_error(yTest, predict)\n",
    "print(np.sqrt(error))\n",
    "\n",
    "params = {\"alpha\": [0.001, 0.01, 0.1, 0.2],\n",
    "          \"hidden_layer_sizes\": [(20, 20), (10, 10), (100, 200, 150), (300, 200, 250)],\n",
    "          \"activation\": [\"relu\", \"logistic\"]}\n",
    "\n",
    "#cv = GridSearchCV(mlpmodel, params, cv=10, n_jobs=-1).fit(xRTrain, yTrain)\n",
    "#print(cv.best_params_)\n",
    "\n",
    "mlptuned = MLPRegressor(activation=\"relu\", alpha=0.1, hidden_layer_sizes=(20, 20)).fit(xRTrain, yTrain)\n",
    "predicttuned = mlptuned.predict(xTest)\n",
    "\n",
    "R2CV = cross_val_score(mlptuned, xTest, yTest, cv=10, scoring=\"r2\").mean()\n",
    "print(f\"R2CV: {R2CV}\")\n"
   ]
  },
  {
   "cell_type": "code",
   "execution_count": 7,
   "metadata": {},
   "outputs": [
    {
     "data": {
      "text/plain": [
       "-0.17185935918901657"
      ]
     },
     "execution_count": 7,
     "metadata": {},
     "output_type": "execute_result"
    }
   ],
   "source": [
    "R2CV"
   ]
  }
 ],
 "metadata": {
  "kernelspec": {
   "display_name": "Python 3.9.6 64-bit",
   "language": "python",
   "name": "python3"
  },
  "language_info": {
   "codemirror_mode": {
    "name": "ipython",
    "version": 3
   },
   "file_extension": ".py",
   "mimetype": "text/x-python",
   "name": "python",
   "nbconvert_exporter": "python",
   "pygments_lexer": "ipython3",
   "version": "3.9.6"
  },
  "vscode": {
   "interpreter": {
    "hash": "dc2b1785e863bd89744db6865b85d8df329060abe1db104ec3d1f22df6bf84f6"
   }
  }
 },
 "nbformat": 4,
 "nbformat_minor": 4
}
